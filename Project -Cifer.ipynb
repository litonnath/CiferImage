{
 "cells": [
  {
   "cell_type": "code",
   "execution_count": 1,
   "id": "ba02e294",
   "metadata": {},
   "outputs": [],
   "source": [
    "import numpy as np\n",
    "from tensorflow.keras.datasets import cifar10"
   ]
  },
  {
   "cell_type": "markdown",
   "id": "33182e0d",
   "metadata": {},
   "source": [
    "https://www.hackerearth.com/practice/machine-learning/transfer-learning/transfer-learning-intro/tutorial/"
   ]
  },
  {
   "cell_type": "raw",
   "id": "e560f10f",
   "metadata": {},
   "source": [
    "0\tairplane\n",
    "1\tautomobile\n",
    "2\tbird\n",
    "3\tcat\n",
    "4\tdeer\n",
    "5\tdog\n",
    "6\tfrog\n",
    "7\thorse\n",
    "8\tship\n",
    "9\ttruck"
   ]
  },
  {
   "cell_type": "code",
   "execution_count": 52,
   "id": "7955b533",
   "metadata": {},
   "outputs": [],
   "source": [
    "class_name=['airplane','automobile','bird','cat','deer','dog','frog','horse','ship','truck']"
   ]
  },
  {
   "cell_type": "code",
   "execution_count": 2,
   "id": "52facbad",
   "metadata": {},
   "outputs": [],
   "source": [
    "(x_train,_y_train),(x_test,y_test)=cifar10.load_data()"
   ]
  },
  {
   "cell_type": "code",
   "execution_count": 3,
   "id": "82dc8cb5",
   "metadata": {},
   "outputs": [
    {
     "data": {
      "text/plain": [
       "(50000, 32, 32, 3)"
      ]
     },
     "execution_count": 3,
     "metadata": {},
     "output_type": "execute_result"
    }
   ],
   "source": [
    "x_train.shape"
   ]
  },
  {
   "cell_type": "code",
   "execution_count": 4,
   "id": "871f4e8c",
   "metadata": {},
   "outputs": [
    {
     "data": {
      "text/plain": [
       "(50000, 1)"
      ]
     },
     "execution_count": 4,
     "metadata": {},
     "output_type": "execute_result"
    }
   ],
   "source": [
    "_y_train.shape"
   ]
  },
  {
   "cell_type": "code",
   "execution_count": 5,
   "id": "78db4ced",
   "metadata": {},
   "outputs": [
    {
     "data": {
      "text/plain": [
       "array([[6],\n",
       "       [9],\n",
       "       [9],\n",
       "       ...,\n",
       "       [9],\n",
       "       [1],\n",
       "       [1]], dtype=uint8)"
      ]
     },
     "execution_count": 5,
     "metadata": {},
     "output_type": "execute_result"
    }
   ],
   "source": [
    "# train label\n",
    "_y_train"
   ]
  },
  {
   "cell_type": "code",
   "execution_count": 6,
   "id": "8511eea1",
   "metadata": {},
   "outputs": [
    {
     "data": {
      "text/plain": [
       "(10000, 32, 32, 3)"
      ]
     },
     "execution_count": 6,
     "metadata": {},
     "output_type": "execute_result"
    }
   ],
   "source": [
    "x_test.shape"
   ]
  },
  {
   "cell_type": "code",
   "execution_count": null,
   "id": "7573b0b3",
   "metadata": {},
   "outputs": [],
   "source": []
  },
  {
   "cell_type": "code",
   "execution_count": 7,
   "id": "f6223212",
   "metadata": {},
   "outputs": [
    {
     "name": "stdout",
     "output_type": "stream",
     "text": [
      "There are 50000 train images and 10000 test images.\n",
      "There are 10 unique classes to predict.\n"
     ]
    }
   ],
   "source": [
    "print(\"There are {} train images and {} test images.\".format(x_train.shape[0], x_test.shape[0]))\n",
    "print('There are {} unique classes to predict.'.format(np.unique(_y_train).shape[0]))"
   ]
  },
  {
   "cell_type": "markdown",
   "id": "a745dabb",
   "metadata": {},
   "source": [
    "# We, can see that there are 50,000 train images and 10,000 test images with 10 unique classes to predict. Next, we will one-hot label our train and test labels."
   ]
  },
  {
   "cell_type": "code",
   "execution_count": 8,
   "id": "7f8dbe31",
   "metadata": {},
   "outputs": [],
   "source": [
    "num_classes=10\n",
    "from keras.utils import np_utils\n",
    "y_train=np_utils.to_categorical(_y_train,num_classes)\n",
    "y_test=np_utils.to_categorical(y_test,num_classes)"
   ]
  },
  {
   "cell_type": "markdown",
   "id": "cfaae979",
   "metadata": {},
   "source": [
    "# visualize our training data. We will display the first eight images in the training data."
   ]
  },
  {
   "cell_type": "code",
   "execution_count": 9,
   "id": "e70859e7",
   "metadata": {},
   "outputs": [
    {
     "data": {
      "text/plain": [
       "array([[0., 0., 0., ..., 0., 0., 0.],\n",
       "       [0., 0., 0., ..., 0., 0., 1.],\n",
       "       [0., 0., 0., ..., 0., 0., 1.],\n",
       "       ...,\n",
       "       [0., 0., 0., ..., 0., 0., 1.],\n",
       "       [0., 1., 0., ..., 0., 0., 0.],\n",
       "       [0., 1., 0., ..., 0., 0., 0.]], dtype=float32)"
      ]
     },
     "execution_count": 9,
     "metadata": {},
     "output_type": "execute_result"
    }
   ],
   "source": [
    "#After one hot encoding\n",
    "\n",
    "\n",
    "y_train"
   ]
  },
  {
   "cell_type": "code",
   "execution_count": 10,
   "id": "6498af35",
   "metadata": {},
   "outputs": [
    {
     "data": {
      "text/plain": [
       "(50000, 10)"
      ]
     },
     "execution_count": 10,
     "metadata": {},
     "output_type": "execute_result"
    }
   ],
   "source": [
    "y_train.shape"
   ]
  },
  {
   "cell_type": "code",
   "execution_count": 11,
   "id": "626cbcb8",
   "metadata": {},
   "outputs": [
    {
     "data": {
      "text/plain": [
       "(10000, 10)"
      ]
     },
     "execution_count": 11,
     "metadata": {},
     "output_type": "execute_result"
    }
   ],
   "source": [
    "y_test.shape"
   ]
  },
  {
   "cell_type": "code",
   "execution_count": 12,
   "id": "f8c9f26c",
   "metadata": {},
   "outputs": [
    {
     "data": {
      "image/png": "[encoded data removed]",
      "text/plain": [
       "<Figure size 500x500 with 1 Axes>"
      ]
     },
     "metadata": {},
     "output_type": "display_data"
    }
   ],
   "source": [
    "import matplotlib.pyplot as plt\n",
    "fig=plt.figure(figsize=(5,5))\n",
    "\n",
    "plt.imshow(x_train[1])\n",
    "plt.show() "
   ]
  },
  {
   "cell_type": "markdown",
   "id": "23d33639",
   "metadata": {},
   "source": [
    "# Each image in  Dataset is of size (32 32 3) build a model from scratch. We will be sticking with the keras framework to build our model as it is easy to understand, but you may use other frameworks also."
   ]
  },
  {
   "cell_type": "code",
   "execution_count": 13,
   "id": "7c719d58",
   "metadata": {},
   "outputs": [],
   "source": [
    "from tensorflow.keras import Sequential\n",
    "from tensorflow.keras.layers import Dense,Dropout,Flatten,MaxPooling2D,Conv2D,GlobalAveragePooling2D"
   ]
  },
  {
   "cell_type": "code",
   "execution_count": 14,
   "id": "8f50d21a",
   "metadata": {},
   "outputs": [
    {
     "name": "stdout",
     "output_type": "stream",
     "text": [
      "Model: \"sequential\"\n",
      "_________________________________________________________________\n",
      "Layer (type)                 Output Shape              Param #   \n",
      "=================================================================\n",
      "conv2d (Conv2D)              (None, 31, 31, 32)        416       \n",
      "_________________________________________________________________\n",
      "max_pooling2d (MaxPooling2D) (None, 15, 15, 32)        0         \n",
      "_________________________________________________________________\n",
      "conv2d_1 (Conv2D)            (None, 14, 14, 64)        8256      \n",
      "_________________________________________________________________\n",
      "max_pooling2d_1 (MaxPooling2 (None, 7, 7, 64)          0         \n",
      "_________________________________________________________________\n",
      "conv2d_2 (Conv2D)            (None, 6, 6, 128)         32896     \n",
      "_________________________________________________________________\n",
      "max_pooling2d_2 (MaxPooling2 (None, 3, 3, 128)         0         \n",
      "_________________________________________________________________\n",
      "global_average_pooling2d (Gl (None, 128)               0         \n",
      "_________________________________________________________________\n",
      "dense (Dense)                (None, 10)                1290      \n",
      "=================================================================\n",
      "Total params: 42,858\n",
      "Trainable params: 42,858\n",
      "Non-trainable params: 0\n",
      "_________________________________________________________________\n"
     ]
    }
   ],
   "source": [
    "#Building a Sequential Model\n",
    "\n",
    "model=Sequential([Conv2D(32,(2,2),activation='relu',input_shape=(32,32,3))\n",
    "                  ,MaxPooling2D((2,2))\n",
    "                  \n",
    "                  ,Conv2D(64,(2,2)),\n",
    "                  MaxPooling2D((2,2)),\n",
    "                  \n",
    "                  Conv2D(128,(2,2)),\n",
    "                  MaxPooling2D((2,2)),\n",
    "                  \n",
    "                  GlobalAveragePooling2D(),\n",
    "                  Dense(10,activation='Softmax')\n",
    "                 ])\n",
    "model.summary()\n"
   ]
  },
  {
   "cell_type": "markdown",
   "id": "8bd1188f",
   "metadata": {},
   "source": [
    "# we can see that our model contains three convolutional layers, each followed by a max pooling layer and finally a Global Average Pooling layer followed by a dense layer with \\u2018softmax\\u2019 as the activation function. "
   ]
  },
  {
   "cell_type": "code",
   "execution_count": 15,
   "id": "12cd5a4b",
   "metadata": {},
   "outputs": [],
   "source": [
    "model.compile(loss='binary_crossentropy', optimizer='adam',metrics=['accuracy'])"
   ]
  },
  {
   "cell_type": "markdown",
   "id": "8b25e0b9",
   "metadata": {},
   "source": [
    "# Finally, we will rescale our data. Rescale is a value by which we will multiply the data such that the resultant values lie in the range (0-1). So, in general, scaling ensures that just because some features are big in magnitude, it doesn\\u2019t mean they act as the main features in predicting the label."
   ]
  },
  {
   "cell_type": "code",
   "execution_count": 16,
   "id": "5edc6204",
   "metadata": {},
   "outputs": [],
   "source": [
    "x_train_scratch=x_train/255.\n",
    "x_test_scratch=x_test/255."
   ]
  },
  {
   "cell_type": "code",
   "execution_count": 17,
   "id": "8dcda826",
   "metadata": {},
   "outputs": [
    {
     "data": {
      "image/png": "[encoded data removed]",
      "text/plain": [
       "<Figure size 640x480 with 1 Axes>"
      ]
     },
     "metadata": {},
     "output_type": "display_data"
    }
   ],
   "source": [
    "plt.imshow(x_test_scratch[0])\n",
    "plt.show()"
   ]
  },
  {
   "cell_type": "markdown",
   "id": "a25dcf35",
   "metadata": {},
   "source": [
    "Next, we will create a checkpointer to save the weights of the best model (i.e. the model with minimum loss)."
   ]
  },
  {
   "cell_type": "code",
   "execution_count": 18,
   "id": "05ce4495",
   "metadata": {},
   "outputs": [],
   "source": [
    "from tensorflow.keras.callbacks import ModelCheckpoint"
   ]
  },
  {
   "cell_type": "code",
   "execution_count": 19,
   "id": "8373f9f1",
   "metadata": {},
   "outputs": [],
   "source": [
    "checkpoint=ModelCheckpoint(filepath='cifer_Model.hdf5',verbose=1,save_best_only=True)"
   ]
  },
  {
   "cell_type": "markdown",
   "id": "90eb6914",
   "metadata": {},
   "source": [
    "# Finally, we will fit the model to the training data points and labels. We will split the whole training data in batches of 32 and train the model for 10 epochs. We will use be 20 percent of our training data as our validation data. Hence, we will train the model on 10000 samples and validate of 10000 samples."
   ]
  },
  {
   "cell_type": "code",
   "execution_count": 21,
   "id": "07525e20",
   "metadata": {},
   "outputs": [
    {
     "name": "stdout",
     "output_type": "stream",
     "text": [
      "Epoch 1/20\n",
      "547/547 [==============================] - 6s 11ms/step - loss: 0.1390 - accuracy: 0.7105 - val_loss: 0.1700 - val_accuracy: 0.6321\n",
      "\n",
      "Epoch 00001: val_loss did not improve from 0.16519\n",
      "Epoch 2/20\n",
      "547/547 [==============================] - 5s 10ms/step - loss: 0.1375 - accuracy: 0.7115 - val_loss: 0.1627 - val_accuracy: 0.6516\n",
      "\n",
      "Epoch 00002: val_loss improved from 0.16519 to 0.16266, saving model to cifer_Model.hdf5\n",
      "Epoch 3/20\n",
      "547/547 [==============================] - 5s 10ms/step - loss: 0.1366 - accuracy: 0.7172 - val_loss: 0.1634 - val_accuracy: 0.6532\n",
      "\n",
      "Epoch 00003: val_loss did not improve from 0.16266\n",
      "Epoch 4/20\n",
      "547/547 [==============================] - 5s 10ms/step - loss: 0.1361 - accuracy: 0.7139 - val_loss: 0.1633 - val_accuracy: 0.6538\n",
      "\n",
      "Epoch 00004: val_loss did not improve from 0.16266\n",
      "Epoch 5/20\n",
      "547/547 [==============================] - 5s 10ms/step - loss: 0.1344 - accuracy: 0.7198 - val_loss: 0.1615 - val_accuracy: 0.6543\n",
      "\n",
      "Epoch 00005: val_loss improved from 0.16266 to 0.16152, saving model to cifer_Model.hdf5\n",
      "Epoch 6/20\n",
      "547/547 [==============================] - 5s 10ms/step - loss: 0.1322 - accuracy: 0.7247 - val_loss: 0.1656 - val_accuracy: 0.6522\n",
      "\n",
      "Epoch 00006: val_loss did not improve from 0.16152\n",
      "Epoch 7/20\n",
      "547/547 [==============================] - 5s 10ms/step - loss: 0.1314 - accuracy: 0.7262 - val_loss: 0.1640 - val_accuracy: 0.6511\n",
      "\n",
      "Epoch 00007: val_loss did not improve from 0.16152\n",
      "Epoch 8/20\n",
      "547/547 [==============================] - 5s 10ms/step - loss: 0.1292 - accuracy: 0.7310 - val_loss: 0.1608 - val_accuracy: 0.6619\n",
      "\n",
      "Epoch 00008: val_loss improved from 0.16152 to 0.16082, saving model to cifer_Model.hdf5\n",
      "Epoch 9/20\n",
      "547/547 [==============================] - 5s 10ms/step - loss: 0.1278 - accuracy: 0.7350 - val_loss: 0.1721 - val_accuracy: 0.6376\n",
      "\n",
      "Epoch 00009: val_loss did not improve from 0.16082\n",
      "Epoch 10/20\n",
      "547/547 [==============================] - 5s 10ms/step - loss: 0.1262 - accuracy: 0.7387 - val_loss: 0.1621 - val_accuracy: 0.6525\n",
      "\n",
      "Epoch 00010: val_loss did not improve from 0.16082\n",
      "Epoch 11/20\n",
      "547/547 [==============================] - 5s 10ms/step - loss: 0.1251 - accuracy: 0.7411 - val_loss: 0.1621 - val_accuracy: 0.6560\n",
      "\n",
      "Epoch 00011: val_loss did not improve from 0.16082\n",
      "Epoch 12/20\n",
      "547/547 [==============================] - 5s 10ms/step - loss: 0.1233 - accuracy: 0.7444 - val_loss: 0.1646 - val_accuracy: 0.6527\n",
      "\n",
      "Epoch 00012: val_loss did not improve from 0.16082\n",
      "Epoch 13/20\n",
      "547/547 [==============================] - 6s 10ms/step - loss: 0.1219 - accuracy: 0.7499 - val_loss: 0.1672 - val_accuracy: 0.6525\n",
      "\n",
      "Epoch 00013: val_loss did not improve from 0.16082\n",
      "Epoch 14/20\n",
      "547/547 [==============================] - 5s 10ms/step - loss: 0.1215 - accuracy: 0.7509 - val_loss: 0.1659 - val_accuracy: 0.6542\n",
      "\n",
      "Epoch 00014: val_loss did not improve from 0.16082\n",
      "Epoch 15/20\n",
      "547/547 [==============================] - 5s 10ms/step - loss: 0.1189 - accuracy: 0.7544 - val_loss: 0.1614 - val_accuracy: 0.6611\n",
      "\n",
      "Epoch 00015: val_loss did not improve from 0.16082\n",
      "Epoch 16/20\n",
      "547/547 [==============================] - 5s 10ms/step - loss: 0.1173 - accuracy: 0.7597 - val_loss: 0.1617 - val_accuracy: 0.6661\n",
      "\n",
      "Epoch 00016: val_loss did not improve from 0.16082\n",
      "Epoch 17/20\n",
      "547/547 [==============================] - 5s 10ms/step - loss: 0.1160 - accuracy: 0.7623 - val_loss: 0.1687 - val_accuracy: 0.6569\n",
      "\n",
      "Epoch 00017: val_loss did not improve from 0.16082\n",
      "Epoch 18/20\n",
      "547/547 [==============================] - 5s 10ms/step - loss: 0.1154 - accuracy: 0.7627 - val_loss: 0.1651 - val_accuracy: 0.6624\n",
      "\n",
      "Epoch 00018: val_loss did not improve from 0.16082\n",
      "Epoch 19/20\n",
      "547/547 [==============================] - 5s 10ms/step - loss: 0.1136 - accuracy: 0.7683 - val_loss: 0.1638 - val_accuracy: 0.6651\n",
      "\n",
      "Epoch 00019: val_loss did not improve from 0.16082\n",
      "Epoch 20/20\n",
      "547/547 [==============================] - 5s 10ms/step - loss: 0.1120 - accuracy: 0.7727 - val_loss: 0.1631 - val_accuracy: 0.6679\n",
      "\n",
      "Epoch 00020: val_loss did not improve from 0.16082\n"
     ]
    },
    {
     "data": {
      "text/plain": [
       "<keras.callbacks.History at 0x2698f1fa880>"
      ]
     },
     "execution_count": 21,
     "metadata": {},
     "output_type": "execute_result"
    }
   ],
   "source": [
    "#Fitting the Model on the training and label\n",
    "\n",
    "model.fit(x_train_scratch,y_train,batch_size=64,epochs=20,verbose=1,callbacks=[checkpoint],validation_split=0.3,shuffle=True)\n"
   ]
  },
  {
   "cell_type": "code",
   "execution_count": 22,
   "id": "6adba992",
   "metadata": {},
   "outputs": [
    {
     "name": "stdout",
     "output_type": "stream",
     "text": [
      "313/313 [==============================] - 1s 4ms/step - loss: 0.1626 - accuracy: 0.6665\n",
      "Accuracy on the Test Images:  0.6664999723434448\n"
     ]
    }
   ],
   "source": [
    "#Evaluate the model on the test data\n",
    "score = model.evaluate(x_test_scratch, y_test)\n",
    "\n",
    "#Accuracy on test data\n",
    "print('Accuracy on the Test Images: ', score[1])"
   ]
  },
  {
   "cell_type": "code",
   "execution_count": 1,
   "id": "d697f360",
   "metadata": {},
   "outputs": [],
   "source": [
    "from tensorflow.keras.models import load_model\n",
    "\n",
    "cifer_model=load_model('cifer_Model.hdf5')"
   ]
  },
  {
   "cell_type": "code",
   "execution_count": 2,
   "id": "04db9ec1",
   "metadata": {},
   "outputs": [
    {
     "ename": "NameError",
     "evalue": "name 'x_test' is not defined",
     "output_type": "error",
     "traceback": [
      "\u001b[1;31m---------------------------------------------------------------------------\u001b[0m",
      "\u001b[1;31mNameError\u001b[0m                                 Traceback (most recent call last)",
      "\u001b[1;32m<ipython-input-2-c296c010a8f8>\u001b[0m in \u001b[0;36m<module>\u001b[1;34m\u001b[0m\n\u001b[1;32m----> 1\u001b[1;33m \u001b[0mcifer_model\u001b[0m\u001b[1;33m.\u001b[0m\u001b[0mpredict\u001b[0m\u001b[1;33m(\u001b[0m\u001b[0mx_test\u001b[0m\u001b[1;33m)\u001b[0m\u001b[1;33m\u001b[0m\u001b[1;33m\u001b[0m\u001b[0m\n\u001b[0m",
      "\u001b[1;31mNameError\u001b[0m: name 'x_test' is not defined"
     ]
    }
   ],
   "source": [
    "cifer_model.predict(x_test)"
   ]
  },
  {
   "cell_type": "code",
   "execution_count": null,
   "id": "9c48d450",
   "metadata": {},
   "outputs": [],
   "source": [
    "x_test.shape"
   ]
  },
  {
   "cell_type": "code",
   "execution_count": 46,
   "id": "991bf162",
   "metadata": {},
   "outputs": [
    {
     "name": "stdout",
     "output_type": "stream",
     "text": [
      "(1, 32, 32, 3)\n"
     ]
    }
   ],
   "source": [
    "import cv2\n",
    "\n",
    "img=cv2.imread('C:\\\\Users\\\\Liton\\\\Pictures\\\\Saved Pictures\\\\d.jpg')\n",
    "img=cv2.resize(img,(32,32))\n",
    "\n",
    "img=np.expand_dims(img, axis=0)\n",
    "print(img.shape)"
   ]
  },
  {
   "cell_type": "code",
   "execution_count": 47,
   "id": "da92100a",
   "metadata": {},
   "outputs": [],
   "source": [
    "pred=model.predict(img)"
   ]
  },
  {
   "cell_type": "code",
   "execution_count": 48,
   "id": "ff1d50b4",
   "metadata": {},
   "outputs": [],
   "source": [
    "index_Name=np.argmax(pred[0])"
   ]
  },
  {
   "cell_type": "code",
   "execution_count": 49,
   "id": "f4a384e3",
   "metadata": {},
   "outputs": [
    {
     "data": {
      "text/plain": [
       "array([[6],\n",
       "       [9],\n",
       "       [9],\n",
       "       ...,\n",
       "       [9],\n",
       "       [1],\n",
       "       [1]], dtype=uint8)"
      ]
     },
     "execution_count": 49,
     "metadata": {},
     "output_type": "execute_result"
    }
   ],
   "source": [
    "_y_train"
   ]
  },
  {
   "cell_type": "code",
   "execution_count": 53,
   "id": "80bc32ce",
   "metadata": {},
   "outputs": [
    {
     "data": {
      "text/plain": [
       "'airplane'"
      ]
     },
     "execution_count": 53,
     "metadata": {},
     "output_type": "execute_result"
    }
   ],
   "source": [
    "class_name[index_Name]"
   ]
  },
  {
   "cell_type": "code",
   "execution_count": 32,
   "id": "b00b466d",
   "metadata": {},
   "outputs": [],
   "source": [
    "#Deployment data\n",
    "\n",
    "\n",
    "from keras.models import load_model\n",
    "from keras.preprocessing import image\n",
    "import matplotlib.pyplot as plt\n",
    "import numpy as np\n",
    "import os\n",
    "import cv2\n",
    "from PIL import Image\n",
    "def load_image(img_pa):\n",
    "    \n",
    "   \n",
    "    class_name=['airplane','automobile','bird','cat','deer','dog','frog','horse','ship','truck']\n",
    "    img = Image.open(img_pa)\n",
    "    img = np.array(img)\n",
    "    \n",
    "    img=cv2.resize(img,(32,32))\n",
    "\n",
    "    img=np.expand_dims(img, axis=0)\n",
    "    \n",
    "    img=img/255.\n",
    "    \n",
    "    cifer_model=load_model('cifer_Model.hdf5')\n",
    "    \n",
    "    pred=cifer_model.predict(img)\n",
    "    \n",
    "    index_Name=np.argmax(pred[0])\n",
    "    \n",
    "    return class_name[index_Name]\n",
    "\n",
    "\n",
    "\n",
    "# print(load_image(r\"C:\\\\Users\\\\Liton\\\\Deep Learning\\\\test1\\\\45.jpg\"))\n",
    "\n"
   ]
  },
  {
   "cell_type": "code",
   "execution_count": 36,
   "id": "4672884f",
   "metadata": {},
   "outputs": [],
   "source": [
    "\n",
    "import numpy as np\n",
    "\n",
    "from flask import Flask,request,jsonify,render_template"
   ]
  },
  {
   "cell_type": "code",
   "execution_count": 37,
   "id": "8c6d2d29",
   "metadata": {},
   "outputs": [],
   "source": [
    "import os\n",
    "tmdir=os.path.abspath('C:\\\\Users\\\\Liton\\\\Desktop\\\\Portfolio')\n",
    "app=Flask(__name__,template_folder=tmdir)\n",
    "# run_with_ngrok(app)"
   ]
  },
  {
   "cell_type": "code",
   "execution_count": 38,
   "id": "f5d5b1db",
   "metadata": {},
   "outputs": [
    {
     "name": "stdout",
     "output_type": "stream",
     "text": [
      " * Serving Flask app '__main__' (lazy loading)\n",
      " * Environment: production\n",
      "\u001b[31m   WARNING: This is a development server. Do not use it in a production deployment.\u001b[0m\n",
      "\u001b[2m   Use a production WSGI server instead.\u001b[0m\n",
      " * Debug mode: off\n"
     ]
    },
    {
     "name": "stderr",
     "output_type": "stream",
     "text": [
      " * Running on http://127.0.0.1:5000/ (Press CTRL+C to quit)\n",
      "127.0.0.1 - - [29/Sep/2021 15:06:38] \"GET / HTTP/1.1\" 200 -\n",
      "127.0.0.1 - - [29/Sep/2021 15:06:46] \"POST /successCifer HTTP/1.1\" 200 -\n"
     ]
    }
   ],
   "source": [
    "@app.route('/')\n",
    "def correct():\n",
    "    return render_template('Cifer.html')\n",
    "\n",
    "\n",
    "@app.route('/successCifer', methods = ['POST'])  \n",
    "\n",
    "def success():  \n",
    "    if request.method == 'POST':  \n",
    "        f = request.files['file']  \n",
    "       \n",
    "        r=load_image(f)\n",
    "        \n",
    "        return render_template(\"successCifer.html\", name = r)  \n",
    "    \n",
    "if __name__ == '__main__':  \n",
    "    app.run()  \n"
   ]
  },
  {
   "cell_type": "code",
   "execution_count": null,
   "id": "48ac97bb",
   "metadata": {},
   "outputs": [],
   "source": []
  }
 ],
 "metadata": {
  "kernelspec": {
   "display_name": "Python 3",
   "language": "python",
   "name": "python3"
  },
  "language_info": {
   "codemirror_mode": {
    "name": "ipython",
    "version": 3
   },
   "file_extension": ".py",
   "mimetype": "text/x-python",
   "name": "python",
   "nbconvert_exporter": "python",
   "pygments_lexer": "ipython3",
   "version": "3.9.6"
  }
 },
 "nbformat": 4,
 "nbformat_minor": 5
}
